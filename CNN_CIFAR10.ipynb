{
  "nbformat": 4,
  "nbformat_minor": 0,
  "metadata": {
    "colab": {
      "provenance": [],
      "gpuType": "T4",
      "authorship_tag": "ABX9TyOXiT48QPI6bLKAJowgpLLg",
      "include_colab_link": true
    },
    "kernelspec": {
      "name": "python3",
      "display_name": "Python 3"
    },
    "language_info": {
      "name": "python"
    },
    "accelerator": "GPU"
  },
  "cells": [
    {
      "cell_type": "markdown",
      "metadata": {
        "id": "view-in-github",
        "colab_type": "text"
      },
      "source": [
        "<a href=\"https://colab.research.google.com/github/TaranDoebe/CIFAR-10/blob/main/CNN_CIFAR10.ipynb\" target=\"_parent\"><img src=\"https://colab.research.google.com/assets/colab-badge.svg\" alt=\"Open In Colab\"/></a>"
      ]
    },
    {
      "cell_type": "code",
      "execution_count": 1,
      "metadata": {
        "id": "QJ2bzFnTP9bo"
      },
      "outputs": [],
      "source": [
        "import numpy as np\n",
        "import pandas as pd\n",
        "import matplotlib.pyplot as plt\n",
        "\n",
        "import torch\n",
        "import torch.nn as nn\n",
        "import torch.nn.functional as F\n",
        "\n",
        "from torch.utils.data import DataLoader\n",
        "from torchvision import datasets, transforms\n",
        "from torchvision.utils import make_grid\n",
        "\n",
        "from sklearn.metrics import confusion_matrix\n",
        "\n",
        "# Allows charts for plt in colab\n",
        "%matplotlib inline\n"
      ]
    },
    {
      "cell_type": "code",
      "source": [
        "# Convert MNIST Image Files into Tensor of 4-Dimensions ( # of Images, Height, Width, Color-Channels)\n",
        "\n",
        "CIFAR_transform = transforms.ToTensor()"
      ],
      "metadata": {
        "id": "NyhNT0-QQv2q"
      },
      "execution_count": 2,
      "outputs": []
    },
    {
      "cell_type": "code",
      "source": [
        "# Train Data\n",
        "train_data = datasets.CIFAR10(root='/cnn_data_cifar10', train=True, download=True, transform=transforms.ToTensor())"
      ],
      "metadata": {
        "colab": {
          "base_uri": "https://localhost:8080/"
        },
        "id": "BiaUWdNfQxi-",
        "outputId": "353521ac-95b4-4bc7-9757-0850db1b40d1"
      },
      "execution_count": 3,
      "outputs": [
        {
          "output_type": "stream",
          "name": "stdout",
          "text": [
            "Downloading https://www.cs.toronto.edu/~kriz/cifar-10-python.tar.gz to /cnn_data_cifar10/cifar-10-python.tar.gz\n"
          ]
        },
        {
          "output_type": "stream",
          "name": "stderr",
          "text": [
            "100%|██████████| 170498071/170498071 [00:10<00:00, 15905192.53it/s]\n"
          ]
        },
        {
          "output_type": "stream",
          "name": "stdout",
          "text": [
            "Extracting /cnn_data_cifar10/cifar-10-python.tar.gz to /cnn_data_cifar10\n"
          ]
        }
      ]
    },
    {
      "cell_type": "code",
      "source": [
        "# Test Data\n",
        "test_data = datasets.CIFAR10(root='/cnn_data_cifar10', train=False, download=True, transform=CIFAR_transform)"
      ],
      "metadata": {
        "colab": {
          "base_uri": "https://localhost:8080/"
        },
        "id": "RYKmAK8kQ0Kn",
        "outputId": "6871215a-7c3f-4fb6-faee-e52929d8a0b9"
      },
      "execution_count": 4,
      "outputs": [
        {
          "output_type": "stream",
          "name": "stdout",
          "text": [
            "Files already downloaded and verified\n"
          ]
        }
      ]
    },
    {
      "cell_type": "code",
      "source": [
        "train_data"
      ],
      "metadata": {
        "colab": {
          "base_uri": "https://localhost:8080/"
        },
        "id": "TCfsa9OSQ0pg",
        "outputId": "874b1d3a-bdd7-4b1b-dba3-f808b61a2f8d"
      },
      "execution_count": 5,
      "outputs": [
        {
          "output_type": "execute_result",
          "data": {
            "text/plain": [
              "Dataset CIFAR10\n",
              "    Number of datapoints: 50000\n",
              "    Root location: /cnn_data_cifar10\n",
              "    Split: Train\n",
              "    StandardTransform\n",
              "Transform: ToTensor()"
            ]
          },
          "metadata": {},
          "execution_count": 5
        }
      ]
    },
    {
      "cell_type": "code",
      "source": [
        "test_data"
      ],
      "metadata": {
        "colab": {
          "base_uri": "https://localhost:8080/"
        },
        "id": "oqzttA2SQ0sN",
        "outputId": "27cb95c6-3b37-402d-93fb-112d2d0a96dd"
      },
      "execution_count": 6,
      "outputs": [
        {
          "output_type": "execute_result",
          "data": {
            "text/plain": [
              "Dataset CIFAR10\n",
              "    Number of datapoints: 10000\n",
              "    Root location: /cnn_data_cifar10\n",
              "    Split: Test\n",
              "    StandardTransform\n",
              "Transform: ToTensor()"
            ]
          },
          "metadata": {},
          "execution_count": 6
        }
      ]
    },
    {
      "cell_type": "code",
      "source": [
        "# Create a small batch size for images (10)\n",
        "train_loader = DataLoader(train_data, batch_size=10, shuffle=True)\n",
        "test_loader = DataLoader(test_data, batch_size=10, shuffle=False)"
      ],
      "metadata": {
        "id": "X5T_Q71vQ0u7"
      },
      "execution_count": 7,
      "outputs": []
    },
    {
      "cell_type": "code",
      "source": [
        "# Model Class\n",
        "class ConvolutionalNetwork(nn.Module):\n",
        "  def __init__(self):\n",
        "    super().__init__()\n",
        "    self.conv1 = nn.Conv2d(3, 6, 3, 1) # 3 color channels\n",
        "    self.conv2 = nn.Conv2d(6, 16, 3, 1)\n",
        "\n",
        "    # Fully Connected Layers\n",
        "    self.fc1 = nn.Linear(16 * 6 * 6, 120) # results 2 cells ago == 16 filters, 5x5 pixels - 120 = arbitrary neurons\n",
        "    self.fc2 = nn.Linear(120, 84) # connect output last_arg,\n",
        "    self.fc3 = nn.Linear(84, 10) # 120 and 84 same principle. But has to end with 10, because of batch size\n",
        "\n",
        "  def forward(self, X):\n",
        "    # First Pass\n",
        "    X = F.relu(self.conv1(X))\n",
        "    X = F.max_pool2d(X, 2, 2) # 2x2 kernel and stride 2\n",
        "    #print(\"Shape after first max_pool:\", X.shape)  # Check shape\n",
        "    # Second Pass\n",
        "    X = F.relu(self.conv2(X))\n",
        "    X = F.max_pool2d(X, 2, 2) # 2x2 kernel and stride 2\n",
        "    #print(\"Shape after second max_pool:\", X.shape)  # Check shape\n",
        "\n",
        "    # Re-View Data to flatten it out\n",
        "    X = X.view(-1, 16 * 6 * 6) # -1 so we can vary batch size\n",
        "\n",
        "    # Fully Connected Layers\n",
        "    X = F.relu(self.fc1(X))\n",
        "    X = F.relu(self.fc2(X))\n",
        "    X = self.fc3(X)\n",
        "\n",
        "    return F.log_softmax(X, dim=1)"
      ],
      "metadata": {
        "id": "oW3571FgRBj3"
      },
      "execution_count": 8,
      "outputs": []
    },
    {
      "cell_type": "code",
      "source": [
        "# Create instance of Model\n",
        "torch.manual_seed(41)\n",
        "model = ConvolutionalNetwork()\n",
        "model"
      ],
      "metadata": {
        "colab": {
          "base_uri": "https://localhost:8080/"
        },
        "id": "0GawOuuYQ1E3",
        "outputId": "68789786-3e0d-4866-9d26-86c5c48cac41"
      },
      "execution_count": 9,
      "outputs": [
        {
          "output_type": "execute_result",
          "data": {
            "text/plain": [
              "ConvolutionalNetwork(\n",
              "  (conv1): Conv2d(3, 6, kernel_size=(3, 3), stride=(1, 1))\n",
              "  (conv2): Conv2d(6, 16, kernel_size=(3, 3), stride=(1, 1))\n",
              "  (fc1): Linear(in_features=576, out_features=120, bias=True)\n",
              "  (fc2): Linear(in_features=120, out_features=84, bias=True)\n",
              "  (fc3): Linear(in_features=84, out_features=10, bias=True)\n",
              ")"
            ]
          },
          "metadata": {},
          "execution_count": 9
        }
      ]
    },
    {
      "cell_type": "code",
      "source": [
        "# Loss Function Optimizer\n",
        "criterion = nn.CrossEntropyLoss()\n",
        "optimizer = torch.optim.Adam(model.parameters(), lr=0.001) # Smaller lr --> Longer train"
      ],
      "metadata": {
        "id": "PgewSvtjRLWv"
      },
      "execution_count": 10,
      "outputs": []
    },
    {
      "cell_type": "code",
      "source": [
        "import time\n",
        "start_time = time.time()\n",
        "\n",
        "# Create Variables to Track (opt: graphs)\n",
        "epochs = 5\n",
        "# opt\n",
        "train_losses = []\n",
        "test_losses = []\n",
        "train_correct = []\n",
        "test_correct = []\n",
        "\n",
        "# For Loop of Epochs\n",
        "for i in range(epochs):\n",
        "  train_corr = 0\n",
        "  test_corr = 0\n",
        "\n",
        "  # Train\n",
        "  for b, (X_train, y_train) in enumerate(train_loader):\n",
        "    b+=1 # Starts batches at 1\n",
        "    y_pred = model(X_train) # Get predicted values from training set. Not flattened: 2D\n",
        "    loss = criterion(y_pred, y_train) # compare predicted value with correct value\n",
        "    predicted = torch.max(y_pred.data, 1)[1] # add number correct predictions indexed of first point\n",
        "    batch_corr = (predicted == y_train).sum() # How many we got correct from this batch. True = 1, False = 0. Sum.\n",
        "    train_corr += batch_corr # keep track as we go along in training.\n",
        "\n",
        "    # Update our params\n",
        "    optimizer.zero_grad()\n",
        "    loss.backward()\n",
        "    optimizer.step()\n",
        "\n",
        "    # Print out results\n",
        "    if b%600 == 0:\n",
        "      print(f'Epoch: {i}, Batch: {b}, Loss: {loss.item()}')\n",
        "\n",
        "  train_losses.append(loss)\n",
        "  train_correct.append(train_corr)\n",
        "\n",
        "  # Test\n",
        "  with torch.no_grad(): # No gradient so we dont update weights and biases\n",
        "    for b, (X_test, y_test) in enumerate(test_loader):\n",
        "      y_val = model(X_test)\n",
        "      predicted = torch.max(y_val.data, 1)[1] # Adding up correct predictions\n",
        "      test_corr += (predicted == y_test).sum() # T=1 F=0 and sum away\n",
        "\n",
        "  loss = criterion(y_val, y_test)\n",
        "  test_losses.append(loss)\n",
        "  test_correct.append(test_corr)\n",
        "\n",
        "\n",
        "current_time = time.time()\n",
        "total = current_time - start_time\n",
        "print(f'Training took: {total/60} minutes.')"
      ],
      "metadata": {
        "colab": {
          "base_uri": "https://localhost:8080/"
        },
        "id": "gXNAKkZgRLZh",
        "outputId": "1d6e8f9f-dc11-4d2e-b92d-34995c412d0d"
      },
      "execution_count": 11,
      "outputs": [
        {
          "output_type": "stream",
          "name": "stdout",
          "text": [
            "Epoch: 0, Batch: 600, Loss: 1.5561734437942505\n",
            "Epoch: 0, Batch: 1200, Loss: 1.0995103120803833\n",
            "Epoch: 0, Batch: 1800, Loss: 1.531749963760376\n",
            "Epoch: 0, Batch: 2400, Loss: 1.6347906589508057\n",
            "Epoch: 0, Batch: 3000, Loss: 1.7715446949005127\n",
            "Epoch: 0, Batch: 3600, Loss: 1.6488033533096313\n",
            "Epoch: 0, Batch: 4200, Loss: 1.370375394821167\n",
            "Epoch: 0, Batch: 4800, Loss: 2.016120433807373\n",
            "Epoch: 1, Batch: 600, Loss: 1.618137001991272\n",
            "Epoch: 1, Batch: 1200, Loss: 1.3326793909072876\n",
            "Epoch: 1, Batch: 1800, Loss: 1.579071283340454\n",
            "Epoch: 1, Batch: 2400, Loss: 1.1871851682662964\n",
            "Epoch: 1, Batch: 3000, Loss: 0.9321337938308716\n",
            "Epoch: 1, Batch: 3600, Loss: 1.528050184249878\n",
            "Epoch: 1, Batch: 4200, Loss: 0.5962702035903931\n",
            "Epoch: 1, Batch: 4800, Loss: 1.8260997533798218\n",
            "Epoch: 2, Batch: 600, Loss: 1.5478724241256714\n",
            "Epoch: 2, Batch: 1200, Loss: 1.3209210634231567\n",
            "Epoch: 2, Batch: 1800, Loss: 1.2809679508209229\n",
            "Epoch: 2, Batch: 2400, Loss: 0.6496113538742065\n",
            "Epoch: 2, Batch: 3000, Loss: 0.7600411176681519\n",
            "Epoch: 2, Batch: 3600, Loss: 0.9175354242324829\n",
            "Epoch: 2, Batch: 4200, Loss: 1.796550989151001\n",
            "Epoch: 2, Batch: 4800, Loss: 1.1566026210784912\n",
            "Epoch: 3, Batch: 600, Loss: 1.1860291957855225\n",
            "Epoch: 3, Batch: 1200, Loss: 1.0503839254379272\n",
            "Epoch: 3, Batch: 1800, Loss: 1.1631306409835815\n",
            "Epoch: 3, Batch: 2400, Loss: 1.1479142904281616\n",
            "Epoch: 3, Batch: 3000, Loss: 0.8526831865310669\n",
            "Epoch: 3, Batch: 3600, Loss: 0.8523494601249695\n",
            "Epoch: 3, Batch: 4200, Loss: 1.7026973962783813\n",
            "Epoch: 3, Batch: 4800, Loss: 0.7581497430801392\n",
            "Epoch: 4, Batch: 600, Loss: 0.6805813312530518\n",
            "Epoch: 4, Batch: 1200, Loss: 1.562310814857483\n",
            "Epoch: 4, Batch: 1800, Loss: 1.3858994245529175\n",
            "Epoch: 4, Batch: 2400, Loss: 1.154801368713379\n",
            "Epoch: 4, Batch: 3000, Loss: 1.6282322406768799\n",
            "Epoch: 4, Batch: 3600, Loss: 1.4109715223312378\n",
            "Epoch: 4, Batch: 4200, Loss: 1.7170244455337524\n",
            "Epoch: 4, Batch: 4800, Loss: 0.9194607734680176\n",
            "Training took: 3.125957492987315 minutes.\n"
          ]
        }
      ]
    },
    {
      "cell_type": "code",
      "source": [
        "# Graph the loss at each epoch\n",
        "\n",
        "train_losses = [tl.item() for tl in train_losses]\n",
        "\n",
        "plt.plot(train_losses, label='Training Loss')\n",
        "plt.plot(test_losses, label='Test Loss')\n",
        "plt.title(\"Loss at Epoch\")\n",
        "plt.legend()"
      ],
      "metadata": {
        "colab": {
          "base_uri": "https://localhost:8080/",
          "height": 469
        },
        "id": "cqT8VlgRRLcB",
        "outputId": "c8074a77-86ca-4704-cee1-00e74063f1bc"
      },
      "execution_count": 12,
      "outputs": [
        {
          "output_type": "execute_result",
          "data": {
            "text/plain": [
              "<matplotlib.legend.Legend at 0x7fabc57820b0>"
            ]
          },
          "metadata": {},
          "execution_count": 12
        },
        {
          "output_type": "display_data",
          "data": {
            "text/plain": [
              "<Figure size 640x480 with 1 Axes>"
            ],
            "image/png": "[encoded data removed]"
          },
          "metadata": {}
        }
      ]
    },
    {
      "cell_type": "code",
      "source": [
        "# Graph the accuracy at end each epoch\n",
        "\n",
        "plt.plot([t/600 for t in train_correct], label='Training Accuracy')\n",
        "plt.plot([t/100 for t in test_correct], label='Validation Accuracy')\n",
        "plt.title(\"Accuracy at end each Epoch\")\n",
        "plt.legend()"
      ],
      "metadata": {
        "colab": {
          "base_uri": "https://localhost:8080/",
          "height": 469
        },
        "id": "wsx1WBhsRLe1",
        "outputId": "e35ed102-f29f-47af-d67e-1ab8f486f6ee"
      },
      "execution_count": 13,
      "outputs": [
        {
          "output_type": "execute_result",
          "data": {
            "text/plain": [
              "<matplotlib.legend.Legend at 0x7fabc57823e0>"
            ]
          },
          "metadata": {},
          "execution_count": 13
        },
        {
          "output_type": "display_data",
          "data": {
            "text/plain": [
              "<Figure size 640x480 with 1 Axes>"
            ],
            "image/png": "[encoded data removed]"
          },
          "metadata": {}
        }
      ]
    },
    {
      "cell_type": "code",
      "source": [
        "test_load_everything = DataLoader(test_data, batch_size=10000, shuffle=False)\n"
      ],
      "metadata": {
        "id": "qKBsBfVTRLhe"
      },
      "execution_count": 14,
      "outputs": []
    },
    {
      "cell_type": "code",
      "source": [
        "with torch.no_grad():\n",
        "  correct = 0\n",
        "  for X_test, y_test in test_load_everything:\n",
        "    y_val = model(X_test)\n",
        "    predicted = torch.max(y_val, 1)[1]\n",
        "    correct += (predicted == y_test).sum()"
      ],
      "metadata": {
        "id": "yn6jzjEqRLkX"
      },
      "execution_count": 15,
      "outputs": []
    },
    {
      "cell_type": "code",
      "source": [
        "# Test for correct\n",
        "percent_correct = correct.item()/len(test_data) * 100\n",
        "print(f'Percent Correct: {percent_correct}')"
      ],
      "metadata": {
        "colab": {
          "base_uri": "https://localhost:8080/"
        },
        "id": "qkobafHYRLnB",
        "outputId": "bd88bb57-55af-4144-b391-9261522e5701"
      },
      "execution_count": 16,
      "outputs": [
        {
          "output_type": "stream",
          "name": "stdout",
          "text": [
            "Percent Correct: 58.620000000000005\n"
          ]
        }
      ]
    },
    {
      "cell_type": "code",
      "source": [
        "# Correct items\n",
        "correct.item()"
      ],
      "metadata": {
        "colab": {
          "base_uri": "https://localhost:8080/"
        },
        "id": "SsfeeP_jRLpu",
        "outputId": "a297803b-ed00-4fc8-b631-331ab4b56e63"
      },
      "execution_count": 17,
      "outputs": [
        {
          "output_type": "execute_result",
          "data": {
            "text/plain": [
              "5862"
            ]
          },
          "metadata": {},
          "execution_count": 17
        }
      ]
    },
    {
      "cell_type": "code",
      "source": [
        "# Application\n",
        "\n",
        "# Grab an image\n",
        "test_data[4143] # Tensor with an image in it, at end it shows label\n",
        "\n",
        "# In this case its a 9"
      ],
      "metadata": {
        "colab": {
          "base_uri": "https://localhost:8080/"
        },
        "id": "7QhaYOB4RU9Z",
        "outputId": "d28d38fb-da40-43df-8162-c850a7318d42"
      },
      "execution_count": 18,
      "outputs": [
        {
          "output_type": "execute_result",
          "data": {
            "text/plain": [
              "(tensor([[[0.1961, 0.1922, 0.2157,  ..., 0.1333, 0.1333, 0.1294],\n",
              "          [0.1961, 0.1882, 0.1961,  ..., 0.1373, 0.1412, 0.1373],\n",
              "          [0.1647, 0.1961, 0.2039,  ..., 0.1373, 0.1373, 0.1333],\n",
              "          ...,\n",
              "          [0.6118, 0.6431, 0.6510,  ..., 0.3098, 0.1569, 0.1216],\n",
              "          [0.5804, 0.5922, 0.5804,  ..., 0.1725, 0.1098, 0.1059],\n",
              "          [0.4039, 0.4039, 0.4196,  ..., 0.1020, 0.1098, 0.1176]],\n",
              " \n",
              "         [[0.1765, 0.1686, 0.1804,  ..., 0.1137, 0.1137, 0.1098],\n",
              "          [0.1804, 0.1647, 0.1686,  ..., 0.1176, 0.1216, 0.1176],\n",
              "          [0.1529, 0.1804, 0.1843,  ..., 0.1176, 0.1176, 0.1137],\n",
              "          ...,\n",
              "          [0.6235, 0.6627, 0.6706,  ..., 0.2392, 0.1294, 0.1059],\n",
              "          [0.5961, 0.6078, 0.5961,  ..., 0.1176, 0.0824, 0.0863],\n",
              "          [0.4196, 0.4196, 0.4353,  ..., 0.0627, 0.0784, 0.0941]],\n",
              " \n",
              "         [[0.1843, 0.1686, 0.1804,  ..., 0.0980, 0.1020, 0.0980],\n",
              "          [0.1843, 0.1686, 0.1647,  ..., 0.1020, 0.1098, 0.1059],\n",
              "          [0.1569, 0.1804, 0.1765,  ..., 0.1020, 0.1059, 0.1020],\n",
              "          ...,\n",
              "          [0.6510, 0.6784, 0.6745,  ..., 0.2235, 0.1255, 0.1098],\n",
              "          [0.6000, 0.6078, 0.5843,  ..., 0.1059, 0.0745, 0.0824],\n",
              "          [0.3922, 0.3922, 0.4000,  ..., 0.0627, 0.0745, 0.0902]]]),\n",
              " 5)"
            ]
          },
          "metadata": {},
          "execution_count": 18
        }
      ]
    },
    {
      "cell_type": "code",
      "source": [
        "# easier\n",
        "test_data[4143][1]"
      ],
      "metadata": {
        "colab": {
          "base_uri": "https://localhost:8080/"
        },
        "id": "wWfOwVx7RU_7",
        "outputId": "31f33671-dce2-40dd-eb67-62fdfb511ae6"
      },
      "execution_count": 27,
      "outputs": [
        {
          "output_type": "execute_result",
          "data": {
            "text/plain": [
              "5"
            ]
          },
          "metadata": {},
          "execution_count": 27
        }
      ]
    },
    {
      "cell_type": "code",
      "source": [
        "# Grab the data\n",
        "test_data[4143][0]"
      ],
      "metadata": {
        "colab": {
          "base_uri": "https://localhost:8080/"
        },
        "id": "G4Q3un3hRVCe",
        "outputId": "755bcca6-70a0-41a5-9540-79c317a6c5ca"
      },
      "execution_count": 28,
      "outputs": [
        {
          "output_type": "execute_result",
          "data": {
            "text/plain": [
              "tensor([[[0.1961, 0.1922, 0.2157,  ..., 0.1333, 0.1333, 0.1294],\n",
              "         [0.1961, 0.1882, 0.1961,  ..., 0.1373, 0.1412, 0.1373],\n",
              "         [0.1647, 0.1961, 0.2039,  ..., 0.1373, 0.1373, 0.1333],\n",
              "         ...,\n",
              "         [0.6118, 0.6431, 0.6510,  ..., 0.3098, 0.1569, 0.1216],\n",
              "         [0.5804, 0.5922, 0.5804,  ..., 0.1725, 0.1098, 0.1059],\n",
              "         [0.4039, 0.4039, 0.4196,  ..., 0.1020, 0.1098, 0.1176]],\n",
              "\n",
              "        [[0.1765, 0.1686, 0.1804,  ..., 0.1137, 0.1137, 0.1098],\n",
              "         [0.1804, 0.1647, 0.1686,  ..., 0.1176, 0.1216, 0.1176],\n",
              "         [0.1529, 0.1804, 0.1843,  ..., 0.1176, 0.1176, 0.1137],\n",
              "         ...,\n",
              "         [0.6235, 0.6627, 0.6706,  ..., 0.2392, 0.1294, 0.1059],\n",
              "         [0.5961, 0.6078, 0.5961,  ..., 0.1176, 0.0824, 0.0863],\n",
              "         [0.4196, 0.4196, 0.4353,  ..., 0.0627, 0.0784, 0.0941]],\n",
              "\n",
              "        [[0.1843, 0.1686, 0.1804,  ..., 0.0980, 0.1020, 0.0980],\n",
              "         [0.1843, 0.1686, 0.1647,  ..., 0.1020, 0.1098, 0.1059],\n",
              "         [0.1569, 0.1804, 0.1765,  ..., 0.1020, 0.1059, 0.1020],\n",
              "         ...,\n",
              "         [0.6510, 0.6784, 0.6745,  ..., 0.2235, 0.1255, 0.1098],\n",
              "         [0.6000, 0.6078, 0.5843,  ..., 0.1059, 0.0745, 0.0824],\n",
              "         [0.3922, 0.3922, 0.4000,  ..., 0.0627, 0.0745, 0.0902]]])"
            ]
          },
          "metadata": {},
          "execution_count": 28
        }
      ]
    },
    {
      "cell_type": "code",
      "source": [
        "# Reshape it\n",
        "test_data[4143][0].reshape(3, 32, 32)\n",
        "\n",
        "\n"
      ],
      "metadata": {
        "colab": {
          "base_uri": "https://localhost:8080/"
        },
        "id": "XhejP7SORb3K",
        "outputId": "75e3a725-f86e-4151-db9b-986a69b337df"
      },
      "execution_count": 33,
      "outputs": [
        {
          "output_type": "execute_result",
          "data": {
            "text/plain": [
              "tensor([[[0.1961, 0.1922, 0.2157,  ..., 0.1333, 0.1333, 0.1294],\n",
              "         [0.1961, 0.1882, 0.1961,  ..., 0.1373, 0.1412, 0.1373],\n",
              "         [0.1647, 0.1961, 0.2039,  ..., 0.1373, 0.1373, 0.1333],\n",
              "         ...,\n",
              "         [0.6118, 0.6431, 0.6510,  ..., 0.3098, 0.1569, 0.1216],\n",
              "         [0.5804, 0.5922, 0.5804,  ..., 0.1725, 0.1098, 0.1059],\n",
              "         [0.4039, 0.4039, 0.4196,  ..., 0.1020, 0.1098, 0.1176]],\n",
              "\n",
              "        [[0.1765, 0.1686, 0.1804,  ..., 0.1137, 0.1137, 0.1098],\n",
              "         [0.1804, 0.1647, 0.1686,  ..., 0.1176, 0.1216, 0.1176],\n",
              "         [0.1529, 0.1804, 0.1843,  ..., 0.1176, 0.1176, 0.1137],\n",
              "         ...,\n",
              "         [0.6235, 0.6627, 0.6706,  ..., 0.2392, 0.1294, 0.1059],\n",
              "         [0.5961, 0.6078, 0.5961,  ..., 0.1176, 0.0824, 0.0863],\n",
              "         [0.4196, 0.4196, 0.4353,  ..., 0.0627, 0.0784, 0.0941]],\n",
              "\n",
              "        [[0.1843, 0.1686, 0.1804,  ..., 0.0980, 0.1020, 0.0980],\n",
              "         [0.1843, 0.1686, 0.1647,  ..., 0.1020, 0.1098, 0.1059],\n",
              "         [0.1569, 0.1804, 0.1765,  ..., 0.1020, 0.1059, 0.1020],\n",
              "         ...,\n",
              "         [0.6510, 0.6784, 0.6745,  ..., 0.2235, 0.1255, 0.1098],\n",
              "         [0.6000, 0.6078, 0.5843,  ..., 0.1059, 0.0745, 0.0824],\n",
              "         [0.3922, 0.3922, 0.4000,  ..., 0.0627, 0.0745, 0.0902]]])"
            ]
          },
          "metadata": {},
          "execution_count": 33
        }
      ]
    },
    {
      "cell_type": "code",
      "source": [
        "# Extract image and ensure correct shape\n",
        "image_tensor = test_data[4143][0]\n",
        "\n",
        "# Reshape and transpose the image tensor to [H, W, C]\n",
        "image = image_tensor.permute(1, 2, 0).numpy()\n",
        "\n",
        "# Display the image\n",
        "plt.imshow(image)\n",
        "plt.show()"
      ],
      "metadata": {
        "id": "V8797hbCfDaD",
        "outputId": "ef129284-a55b-4844-c820-846e0c3b9911",
        "colab": {
          "base_uri": "https://localhost:8080/",
          "height": 430
        }
      },
      "execution_count": 58,
      "outputs": [
        {
          "output_type": "display_data",
          "data": {
            "text/plain": [
              "<Figure size 640x480 with 1 Axes>"
            ],
            "image/png": "[encoded data removed]"
          },
          "metadata": {}
        }
      ]
    },
    {
      "cell_type": "code",
      "source": [
        "# Pass image through model\n",
        "\n",
        "model.eval()\n",
        "with torch.no_grad():\n",
        "  new_prediction = model(test_data[4145][0].view(1, 3, 32, 32)) # batch size of 1, 3 color channel, 32 x 32 image"
      ],
      "metadata": {
        "id": "FzP7sI7RRcxp"
      },
      "execution_count": 59,
      "outputs": []
    },
    {
      "cell_type": "code",
      "source": [
        "# Extract image and ensure correct shape\n",
        "image_tensor = test_data[4145][0]\n",
        "\n",
        "# Reshape and transpose the image tensor to [H, W, C]\n",
        "image = image_tensor.permute(1, 2, 0).numpy()\n",
        "\n",
        "# Display the image\n",
        "plt.imshow(image)\n",
        "plt.show()"
      ],
      "metadata": {
        "id": "vBb8T2UXgE7g",
        "outputId": "c718e461-84ee-447f-c1d3-dd88383078db",
        "colab": {
          "base_uri": "https://localhost:8080/",
          "height": 430
        }
      },
      "execution_count": 60,
      "outputs": [
        {
          "output_type": "display_data",
          "data": {
            "text/plain": [
              "<Figure size 640x480 with 1 Axes>"
            ],
            "image/png": "[encoded data removed]"
          },
          "metadata": {}
        }
      ]
    },
    {
      "cell_type": "code",
      "source": [
        "# Check the new prediction, get probabilities of 0,1,2,3,4,5,6,7,8,9\n",
        "new_prediction"
      ],
      "metadata": {
        "colab": {
          "base_uri": "https://localhost:8080/"
        },
        "id": "I6TGduNgRfaN",
        "outputId": "37e9ae1e-a759-409f-b5ef-75449b0e72ab"
      },
      "execution_count": 61,
      "outputs": [
        {
          "output_type": "execute_result",
          "data": {
            "text/plain": [
              "tensor([[ -0.9827,  -9.3729,  -7.8369, -10.4876, -10.6817, -14.7874, -13.3760,\n",
              "         -15.7399,  -0.4699,  -9.3302]])"
            ]
          },
          "metadata": {},
          "execution_count": 61
        }
      ]
    },
    {
      "cell_type": "code",
      "source": [
        "new_prediction.argmax()"
      ],
      "metadata": {
        "colab": {
          "base_uri": "https://localhost:8080/"
        },
        "id": "ebSo4glWRfdN",
        "outputId": "1577f955-fd5e-41ea-c952-13d1850a0294"
      },
      "execution_count": 65,
      "outputs": [
        {
          "output_type": "execute_result",
          "data": {
            "text/plain": [
              "tensor(8)"
            ]
          },
          "metadata": {},
          "execution_count": 65
        }
      ]
    },
    {
      "cell_type": "code",
      "source": [
        "\n",
        "# Define the CIFAR-10 classes\n",
        "classes = ['airplane', 'automobile', 'bird', 'cat', 'deer', 'dog', 'frog', 'horse', 'ship', 'truck']\n",
        "\n",
        "# Get the index of the class with the highest probability\n",
        "predicted_class_index = new_prediction.argmax().item()\n",
        "\n",
        "# Get the class name from the index\n",
        "predicted_class_name = classes[predicted_class_index]\n",
        "\n",
        "# Print the class name\n",
        "print(f'The predicted class is: {predicted_class_name}')\n"
      ],
      "metadata": {
        "id": "Q3UQKnatfhef",
        "outputId": "82f2c864-a415-4977-8ccc-716a49a0573d",
        "colab": {
          "base_uri": "https://localhost:8080/"
        }
      },
      "execution_count": 66,
      "outputs": [
        {
          "output_type": "stream",
          "name": "stdout",
          "text": [
            "The predicted class is: ship\n"
          ]
        }
      ]
    },
    {
      "cell_type": "code",
      "source": [],
      "metadata": {
        "id": "-CBSolJwgPTk"
      },
      "execution_count": null,
      "outputs": []
    }
  ]
}